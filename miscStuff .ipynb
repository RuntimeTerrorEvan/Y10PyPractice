{
 "cells": [
  {
   "cell_type": "code",
   "execution_count": 29,
   "id": "8d8ebb51",
   "metadata": {},
   "outputs": [],
   "source": [
    "myList = [1,2,3,4,5]\n",
    "myList2 = [1,2,3,4,5]\n",
    "biggest = max(myList, myList2)\n",
    "myString = 'abZcQsycdf'\n",
    "colours = ['red', 'blue', 'green', 'purple', 'chartreuse', 'yellow']\n",
    "tosses = ['head', 'tails', 'head', 'head', 'head', 'tails']"
   ]
  },
  {
   "cell_type": "code",
   "execution_count": 24,
   "id": "740026aa",
   "metadata": {},
   "outputs": [
    {
     "name": "stdout",
     "output_type": "stream",
     "text": [
      "[1, 2, 3, 4, 5]\n",
      "y\n"
     ]
    }
   ],
   "source": [
    "print(biggest) #prints the list with the largest first value \n",
    "print(max(myString)) #largest ASCII value "
   ]
  },
  {
   "cell_type": "code",
   "execution_count": 25,
   "id": "e956a395",
   "metadata": {},
   "outputs": [],
   "source": [
    "def getKey(k):\n",
    "    return k.lower() #treated as lower case letter \n",
    "\n",
    "def getKey1(k):\n",
    "    return len(k) #if two elements have same length, first one is printed "
   ]
  },
  {
   "cell_type": "code",
   "execution_count": 26,
   "id": "56f779ad",
   "metadata": {},
   "outputs": [
    {
     "name": "stdout",
     "output_type": "stream",
     "text": [
      "Z\n"
     ]
    }
   ],
   "source": [
    "print(max(myString, key=getKey)) "
   ]
  },
  {
   "cell_type": "code",
   "execution_count": 27,
   "id": "b98c96e8",
   "metadata": {},
   "outputs": [
    {
     "name": "stdout",
     "output_type": "stream",
     "text": [
      "yellow\n"
     ]
    }
   ],
   "source": [
    "print(max(colours))"
   ]
  },
  {
   "cell_type": "code",
   "execution_count": 28,
   "id": "1ac8fb54",
   "metadata": {},
   "outputs": [
    {
     "name": "stdout",
     "output_type": "stream",
     "text": [
      "chartreuse\n"
     ]
    }
   ],
   "source": [
    "print(max(colours, key=getKey1)) "
   ]
  },
  {
   "cell_type": "code",
   "execution_count": 31,
   "id": "ab67db2f",
   "metadata": {},
   "outputs": [
    {
     "name": "stdout",
     "output_type": "stream",
     "text": [
      "4\n"
     ]
    }
   ],
   "source": [
    "print(tosses.count('head'))"
   ]
  },
  {
   "cell_type": "code",
   "execution_count": 33,
   "id": "b0189a20",
   "metadata": {},
   "outputs": [
    {
     "name": "stdout",
     "output_type": "stream",
     "text": [
      "{'tails', 'head'}\n",
      "head\n"
     ]
    }
   ],
   "source": [
    "coinSet = set(tosses) #set is similar to a list, but there can be no repeating elements \n",
    "print(coinSet)\n",
    "print(max(coinSet, key = tosses.count))"
   ]
  },
  {
   "cell_type": "code",
   "execution_count": null,
   "id": "e0eb699e",
   "metadata": {},
   "outputs": [],
   "source": []
  }
 ],
 "metadata": {
  "kernelspec": {
   "display_name": "Python 3 (ipykernel)",
   "language": "python",
   "name": "python3"
  },
  "language_info": {
   "codemirror_mode": {
    "name": "ipython",
    "version": 3
   },
   "file_extension": ".py",
   "mimetype": "text/x-python",
   "name": "python",
   "nbconvert_exporter": "python",
   "pygments_lexer": "ipython3",
   "version": "3.10.0"
  }
 },
 "nbformat": 4,
 "nbformat_minor": 5
}
