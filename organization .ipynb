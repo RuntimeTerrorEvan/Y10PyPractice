{
 "cells": [
  {
   "cell_type": "code",
   "execution_count": 21,
   "id": "3fdcefed",
   "metadata": {},
   "outputs": [],
   "source": [
    "pi = 3.14159\n",
    "value = 100/7"
   ]
  },
  {
   "cell_type": "code",
   "execution_count": 22,
   "id": "3d79df2a",
   "metadata": {},
   "outputs": [
    {
     "name": "stdout",
     "output_type": "stream",
     "text": [
      "3.14159\n",
      "14.285714285714286\n"
     ]
    }
   ],
   "source": [
    "print(pi)\n",
    "print(value)"
   ]
  },
  {
   "cell_type": "code",
   "execution_count": 23,
   "id": "ad7e2d80",
   "metadata": {},
   "outputs": [
    {
     "name": "stdout",
     "output_type": "stream",
     "text": [
      "      3.14         3.14\n",
      "     14.29        14.29\n"
     ]
    }
   ],
   "source": [
    "print (f\"{pi:10.2f} {pi:12.2f}\")  #    shifts right by 10 spaces, rounds to 2 decimal places. f is format. \n",
    "print (f\"{value:10.2f} {value:12.2f}\")"
   ]
  },
  {
   "cell_type": "code",
   "execution_count": 24,
   "id": "f48f478e",
   "metadata": {},
   "outputs": [],
   "source": [
    "quantity1 = 42\n",
    "quantity2 = 7421"
   ]
  },
  {
   "cell_type": "code",
   "execution_count": 25,
   "id": "70a76aca",
   "metadata": {},
   "outputs": [
    {
     "name": "stdout",
     "output_type": "stream",
     "text": [
      "42\n",
      "7421\n"
     ]
    }
   ],
   "source": [
    "print(quantity1)\n",
    "print(quantity2)"
   ]
  },
  {
   "cell_type": "code",
   "execution_count": 26,
   "id": "9b09e6c4",
   "metadata": {},
   "outputs": [
    {
     "name": "stdout",
     "output_type": "stream",
     "text": [
      "\n"
     ]
    }
   ],
   "source": [
    "print()"
   ]
  },
  {
   "cell_type": "code",
   "execution_count": 27,
   "id": "4a615a10",
   "metadata": {},
   "outputs": [
    {
     "name": "stdout",
     "output_type": "stream",
     "text": [
      "Yesterday I bought 42 apples.\n"
     ]
    }
   ],
   "source": [
    "print (f\"Yesterday I bought\", quantity1, \"apples.\")"
   ]
  },
  {
   "cell_type": "code",
   "execution_count": 28,
   "id": "e8425e85",
   "metadata": {},
   "outputs": [
    {
     "name": "stdout",
     "output_type": "stream",
     "text": [
      "The value of pi is 3.142 - isn't that a great number?\n"
     ]
    }
   ],
   "source": [
    "print (f\"The value of pi is {pi:.3f} - isn't that a great number?\")"
   ]
  },
  {
   "cell_type": "code",
   "execution_count": null,
   "id": "74d3c6f3",
   "metadata": {},
   "outputs": [],
   "source": []
  }
 ],
 "metadata": {
  "kernelspec": {
   "display_name": "Python 3 (ipykernel)",
   "language": "python",
   "name": "python3"
  },
  "language_info": {
   "codemirror_mode": {
    "name": "ipython",
    "version": 3
   },
   "file_extension": ".py",
   "mimetype": "text/x-python",
   "name": "python",
   "nbconvert_exporter": "python",
   "pygments_lexer": "ipython3",
   "version": "3.10.0"
  }
 },
 "nbformat": 4,
 "nbformat_minor": 5
}
